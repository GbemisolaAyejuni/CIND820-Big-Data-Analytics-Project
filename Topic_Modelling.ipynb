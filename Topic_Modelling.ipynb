{
  "nbformat": 4,
  "nbformat_minor": 0,
  "metadata": {
    "colab": {
      "provenance": [],
      "machine_shape": "hm",
      "authorship_tag": "ABX9TyPeWdkSKdSUMY9u0/XlVL4b",
      "include_colab_link": true
    },
    "kernelspec": {
      "name": "python3",
      "display_name": "Python 3"
    },
    "language_info": {
      "name": "python"
    }
  },
  "cells": [
    {
      "cell_type": "markdown",
      "metadata": {
        "id": "view-in-github",
        "colab_type": "text"
      },
      "source": [
        "<a href=\"https://colab.research.google.com/github/GbemisolaAyejuni/CIND820-Big-Data-Analytics-Project/blob/main/Topic_Modelling.ipynb\" target=\"_parent\"><img src=\"https://colab.research.google.com/assets/colab-badge.svg\" alt=\"Open In Colab\"/></a>"
      ]
    },
    {
      "cell_type": "code",
      "execution_count": 1,
      "metadata": {
        "id": "JAgA4YC8uoFM"
      },
      "outputs": [],
      "source": [
        "# Basic libraries for data processing\n",
        "import numpy as np\n",
        "import pandas as pd\n",
        "\n",
        "# Visualization tools\n",
        "import matplotlib.pyplot as plt\n",
        "import seaborn as sns\n",
        "\n",
        "from sklearn.decomposition import LatentDirichletAllocation\n",
        "from sklearn.feature_extraction.text import TfidfVectorizer"
      ]
    },
    {
      "cell_type": "code",
      "source": [
        "reviews = pd.read_csv('/content/reviews_cleanedtext_stars.zip')\n",
        "grouped_reviews = reviews.groupby('stars')['cleaned_text'].apply(lambda x: ' '.join(x))"
      ],
      "metadata": {
        "id": "hkn8tmwPvAy3"
      },
      "execution_count": 2,
      "outputs": []
    },
    {
      "cell_type": "markdown",
      "source": [
        "# Topic Modeliing"
      ],
      "metadata": {
        "id": "lMoMF88Exyp9"
      }
    },
    {
      "cell_type": "code",
      "source": [
        "vectorizer = TfidfVectorizer(stop_words='english', max_features=1000)\n",
        "for stars, cleaned_text in grouped_reviews.items():\n",
        "    X = vectorizer.fit_transform([cleaned_text])\n",
        "    lda = LatentDirichletAllocation(n_components=3, random_state=42)\n",
        "    lda.fit(X)\n",
        "    print(f\"Topics for {stars}-Star Reviews:\")\n",
        "    for idx, topic in enumerate(lda.components_):\n",
        "        print(f\"Topic {idx + 1}: {[vectorizer.get_feature_names_out()[i] for i in topic.argsort()[-10:]]}\")\n"
      ],
      "metadata": {
        "colab": {
          "base_uri": "https://localhost:8080/"
        },
        "id": "mH0b9eU9vMUQ",
        "outputId": "bc349928-4578-49e6-a5e2-82bd1dba0322"
      },
      "execution_count": 5,
      "outputs": [
        {
          "output_type": "stream",
          "name": "stdout",
          "text": [
            "Topics for 1-Star Reviews:\n",
            "Topic 1: ['good', 'restaurant', 'minute', 'ordered', 'like', 'service', 'time', 'order', 'place', 'food']\n",
            "Topic 2: ['good', 'restaurant', 'minute', 'ordered', 'like', 'service', 'time', 'order', 'place', 'food']\n",
            "Topic 3: ['good', 'restaurant', 'minute', 'ordered', 'like', 'service', 'time', 'order', 'place', 'food']\n",
            "Topics for 2-Star Reviews:\n",
            "Topic 1: ['really', 'restaurant', 'order', 'ordered', 'service', 'like', 'time', 'place', 'good', 'food']\n",
            "Topic 2: ['really', 'restaurant', 'order', 'ordered', 'service', 'like', 'time', 'food', 'place', 'good']\n",
            "Topic 3: ['really', 'restaurant', 'order', 'ordered', 'service', 'like', 'time', 'food', 'place', 'good']\n",
            "Topics for 3-Star Reviews:\n",
            "Topic 1: ['order', 'ordered', 'really', 'great', 'service', 'time', 'like', 'good', 'place', 'food']\n",
            "Topic 2: ['order', 'ordered', 'really', 'great', 'service', 'time', 'like', 'good', 'place', 'food']\n",
            "Topic 3: ['order', 'ordered', 'really', 'great', 'service', 'time', 'like', 'place', 'food', 'good']\n",
            "Topics for 4-Star Reviews:\n",
            "Topic 1: ['restaurant', 'nice', 'really', 'service', 'like', 'time', 'good', 'great', 'place', 'food']\n",
            "Topic 2: ['restaurant', 'nice', 'really', 'service', 'like', 'time', 'great', 'place', 'food', 'good']\n",
            "Topic 3: ['restaurant', 'nice', 'really', 'service', 'like', 'time', 'good', 'great', 'place', 'food']\n",
            "Topics for 5-Star Reviews:\n",
            "Topic 1: ['restaurant', 'amazing', 'best', 'delicious', 'time', 'service', 'good', 'place', 'great', 'food']\n",
            "Topic 2: ['restaurant', 'amazing', 'best', 'delicious', 'time', 'service', 'good', 'food', 'great', 'place']\n",
            "Topic 3: ['restaurant', 'amazing', 'best', 'delicious', 'time', 'service', 'good', 'food', 'great', 'place']\n"
          ]
        }
      ]
    },
    {
      "cell_type": "markdown",
      "source": [
        "# Sentiment Keyword Analysis"
      ],
      "metadata": {
        "id": "J7s1xdJ_x1rM"
      }
    }
  ]
}